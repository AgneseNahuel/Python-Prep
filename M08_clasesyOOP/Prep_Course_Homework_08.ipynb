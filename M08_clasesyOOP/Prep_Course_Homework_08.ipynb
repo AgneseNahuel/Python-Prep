{
 "cells": [
  {
   "attachments": {},
   "cell_type": "markdown",
   "metadata": {},
   "source": [
    "## Clases y Programación Orientada a Objetos"
   ]
  },
  {
   "attachments": {},
   "cell_type": "markdown",
   "metadata": {},
   "source": [
    "1) Crear la clase vehículo que contenga los atributos:<br>\n",
    "Color<br>\n",
    "Si es moto, auto, camioneta ó camión<br>\n",
    "Cilindrada del motor"
   ]
  },
  {
   "cell_type": "code",
   "execution_count": 1,
   "metadata": {},
   "outputs": [],
   "source": [
    "class vehículo():\n",
    "    def __init__(self, color, tipo, cilindrada):\n",
    "        self.color = color\n",
    "        self.tipo = tipo\n",
    "        self.cilindrada = cilindrada\n",
    "\n",
    "porche = vehículo(\"rojo\",\"moto\", 110)\n"
   ]
  },
  {
   "attachments": {},
   "cell_type": "markdown",
   "metadata": {},
   "source": [
    "2) A la clase Vehiculo creada en el punto 1, agregar los siguientes métodos:<br>\n",
    "Acelerar<br>\n",
    "Frenar<br>\n",
    "Doblar<br>"
   ]
  },
  {
   "cell_type": "code",
   "execution_count": 38,
   "metadata": {},
   "outputs": [],
   "source": [
    "class vehículo():\n",
    "    def __init__(self, color, tipo, cilindrada):\n",
    "        self.color = color\n",
    "        self.tipo = tipo\n",
    "        self.cilindrada = cilindrada\n",
    "\n",
    "    def acelerar(self):\n",
    "        print(\"acelerando\", type(self).__name__)\n",
    "\n",
    "    def frenar(self):\n",
    "        print(\"frenando\", self.tipo)\n",
    "    \n",
    "    def doblar(self):\n",
    "        print(\"droblanding\")\n",
    "\n",
    "\n"
   ]
  },
  {
   "attachments": {},
   "cell_type": "markdown",
   "metadata": {},
   "source": [
    "3) Instanciar 3 objetos de la clase vehículo y ejecutar sus métodos, probar luego el resultado"
   ]
  },
  {
   "cell_type": "code",
   "execution_count": 39,
   "metadata": {},
   "outputs": [
    {
     "name": "stdout",
     "output_type": "stream",
     "text": [
      "acelerando vehículo\n",
      "frenando moto\n"
     ]
    }
   ],
   "source": [
    "honda = vehículo(\"azul\",\"moto\",150)\n",
    "porche = vehículo(\"amarillo\", \"auto\", 300)\n",
    "fiat = vehículo(\"azul\", \"auto\", 200)\n",
    "\n",
    "honda.acelerar()\n",
    "honda.frenar()\n"
   ]
  },
  {
   "attachments": {},
   "cell_type": "markdown",
   "metadata": {},
   "source": [
    "4) Agregar a la clase Vehiculo, un método que muestre su estado, es decir, a que velocidad se encuentra y su dirección. Y otro método que muestre color, tipo y cilindrada"
   ]
  },
  {
   "cell_type": "code",
   "execution_count": 1,
   "metadata": {},
   "outputs": [],
   "source": [
    "class vehículo():\n",
    "    def __init__(self, color, tipo, cilindrada):\n",
    "        self.color = color\n",
    "        self.tipo = tipo\n",
    "        self.cilindrada = cilindrada\n",
    "        self.velocidad = 250, \"m/s\"\n",
    "        self.direccion = \"Norte\"\n",
    "\n",
    "\n",
    "    def acelerar(self):\n",
    "        print(\"acelerando\", type(self).__name__)\n",
    "\n",
    "    def frenar(self):\n",
    "        print(\"frenando\", self.tipo)\n",
    "    \n",
    "    def doblar(self):\n",
    "        print(\"droblanding\")\n",
    "\n",
    "    def estado(self):\n",
    "        print(self.velocidad, self.direccion)\n",
    "    \n",
    "    def estado_2(self):\n",
    "        print(self.color, self.tipo)"
   ]
  },
  {
   "cell_type": "code",
   "execution_count": 3,
   "metadata": {},
   "outputs": [
    {
     "name": "stdout",
     "output_type": "stream",
     "text": [
      "(250, 'm/s') Norte\n",
      "None\n"
     ]
    }
   ],
   "source": [
    "honda = vehículo(\"azul\",\"moto\",150)\n",
    "porche = vehículo(\"amarillo\", \"auto\", 300)\n",
    "fiat = vehículo(\"azul\", \"auto\", 200)\n",
    "\n",
    "print(honda.estado())"
   ]
  },
  {
   "attachments": {},
   "cell_type": "markdown",
   "metadata": {},
   "source": [
    "5) Crear una clase que permita utilizar las funciones creadas en la práctica del módulo 7<br>\n",
    "Verificar Primo<br>\n",
    "Valor modal<br>\n",
    "Conversión grados<br>\n",
    "Factorial<br>"
   ]
  },
  {
   "cell_type": "code",
   "execution_count": 106,
   "metadata": {},
   "outputs": [],
   "source": [
    "class modulo7():\n",
    "    def __init__(self, numero, lista):\n",
    "        self.numero = numero\n",
    "        self.lista = lista\n",
    "\n",
    "    def Primo(self):\n",
    "        if self.numero < 2:\n",
    "            return False\n",
    "        for i in range(2, self.numero):\n",
    "            if self.numero % i == 0:\n",
    "                return False\n",
    "        return True\n",
    "    \n",
    "    def valor_modal(self):\n",
    "        lista_unicos = []\n",
    "        lista_repeticiones = []\n",
    "        for elemento in self.lista:\n",
    "            if elemento in lista_unicos:\n",
    "                i = lista_unicos.index(elemento)\n",
    "                lista_repeticiones[i] += 1\n",
    "            else:\n",
    "                lista_unicos.append(elemento)\n",
    "                lista_repeticiones.append(1)\n",
    "        moda = lista_unicos[0]\n",
    "        maximo = lista_repeticiones[0]\n",
    "        for i, elemento in enumerate(lista_unicos):\n",
    "            if lista_repeticiones[i] > maximo:\n",
    "                moda = lista_unicos[i]\n",
    "                maximo = lista_repeticiones[i]\n",
    "        return moda, maximo\n",
    "    \n",
    "    def Celsius_a_FK(self):\n",
    "        if self.que==\"grados\" and self.aque==\"farenheit\":\n",
    "            f=(self.valor*9/5)+32\n",
    "            return f\n",
    "        if self.que==\"grados\" and self.aque==\"kelvin\":\n",
    "            k=self.valor+273.15\n",
    "            return k\n",
    "        \n",
    "\n",
    "    def factorial(self):\n",
    "        resultado=0\n",
    "        if type(self.numero) != int:\n",
    "            return None\n",
    "        else:\n",
    "            resultado+=self.numero*modulo7.factorial(self.numero-1)\n",
    "            return resultado\n",
    "\n",
    "\n"
   ]
  },
  {
   "attachments": {},
   "cell_type": "markdown",
   "metadata": {},
   "source": [
    "6) Probar las funciones incorporadas en la clase del punto 5"
   ]
  },
  {
   "cell_type": "code",
   "execution_count": null,
   "metadata": {},
   "outputs": [],
   "source": [
    "repetidos=[1,2,3,3,4,5,5,5,5,5,6,6,6,7,7,7,8,8,8,9,9,10]\n",
    "modulo = modulo7(5)\n",
    "print(modulo.factorial())"
   ]
  },
  {
   "attachments": {},
   "cell_type": "markdown",
   "metadata": {},
   "source": [
    "7) Es necesario que la clase creada en el punto 5 contenga una lista, sobre la cual se apliquen las funciones incorporadas"
   ]
  },
  {
   "cell_type": "code",
   "execution_count": null,
   "metadata": {},
   "outputs": [],
   "source": []
  },
  {
   "attachments": {},
   "cell_type": "markdown",
   "metadata": {},
   "source": [
    "8) Crear un archivo .py aparte y ubicar allí la clase generada en el punto anterior. Luego realizar la importación del módulo y probar alguna de sus funciones"
   ]
  },
  {
   "cell_type": "code",
   "execution_count": 2,
   "metadata": {},
   "outputs": [
    {
     "name": "stdout",
     "output_type": "stream",
     "text": [
      "True\n"
     ]
    }
   ],
   "source": [
    "import claseCompleta as cc\n",
    "\n",
    "modulo = cc.modulo7(5, [1,2,3])\n",
    "\n",
    "print(modulo.Primo())"
   ]
  },
  {
   "cell_type": "code",
   "execution_count": 3,
   "metadata": {},
   "outputs": [
    {
     "name": "stdout",
     "output_type": "stream",
     "text": [
      "   color_azul  color_rojo  color_verde\n",
      "0           0           1            0\n",
      "1           0           0            1\n",
      "2           1           0            0\n",
      "3           0           1            0\n",
      "4           0           0            1\n"
     ]
    }
   ],
   "source": [
    "import pandas as pd\n",
    "\n",
    "# Datos de ejemplo\n",
    "data = pd.DataFrame({'color': ['rojo', 'verde', 'azul', 'rojo', 'verde']})\n",
    "\n",
    "# Codificación one-hot\n",
    "encoded_data = pd.get_dummies(data)\n",
    "\n",
    "print(encoded_data)\n"
   ]
  }
 ],
 "metadata": {
  "interpreter": {
   "hash": "c85384e4cb51c8b72350f3a8712cc8351fdc3955e32a27f9b60c6242ab125f01"
  },
  "kernelspec": {
   "display_name": "Python 3 (ipykernel)",
   "language": "python",
   "name": "python3"
  },
  "language_info": {
   "codemirror_mode": {
    "name": "ipython",
    "version": 3
   },
   "file_extension": ".py",
   "mimetype": "text/x-python",
   "name": "python",
   "nbconvert_exporter": "python",
   "pygments_lexer": "ipython3",
   "version": "3.9.13"
  }
 },
 "nbformat": 4,
 "nbformat_minor": 4
}
