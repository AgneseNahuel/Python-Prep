{
 "cells": [
  {
   "attachments": {},
   "cell_type": "markdown",
   "metadata": {},
   "source": [
    "## Flujos de Control"
   ]
  },
  {
   "attachments": {},
   "cell_type": "markdown",
   "metadata": {},
   "source": [
    "1) Crear una variable que contenga un elemento del conjunto de números enteros y luego imprimir por pantalla si es mayor o menor a cero"
   ]
  },
  {
   "cell_type": "code",
   "execution_count": 1,
   "metadata": {},
   "outputs": [
    {
     "name": "stdout",
     "output_type": "stream",
     "text": [
      "menor\n"
     ]
    }
   ],
   "source": [
    "x=-3\n",
    "if x>=0:\n",
    "    print(\"Es mayor\")\n",
    "else:\n",
    "    print(\"menor\")"
   ]
  },
  {
   "attachments": {},
   "cell_type": "markdown",
   "metadata": {},
   "source": [
    "2) Crear dos variables y un condicional que informe si son del mismo tipo de dato"
   ]
  },
  {
   "cell_type": "code",
   "execution_count": 2,
   "metadata": {},
   "outputs": [
    {
     "name": "stdout",
     "output_type": "stream",
     "text": [
      "no lo son\n"
     ]
    }
   ],
   "source": [
    "x=5\n",
    "y=\"mariposa\"\n",
    "if type(x)==type(y):\n",
    "    print(\"son del mismo tipo\")\n",
    "else:\n",
    "    print(\"no lo son\")"
   ]
  },
  {
   "attachments": {},
   "cell_type": "markdown",
   "metadata": {},
   "source": [
    "3) Para los valores enteros del 1 al 20, imprimir por pantalla si es par o impar"
   ]
  },
  {
   "cell_type": "code",
   "execution_count": 3,
   "metadata": {},
   "outputs": [
    {
     "name": "stdout",
     "output_type": "stream",
     "text": [
      "1  no es par\n",
      "2  es par\n",
      "3  no es par\n",
      "4  es par\n",
      "5  no es par\n",
      "6  es par\n",
      "7  no es par\n",
      "8  es par\n",
      "9  no es par\n",
      "10  es par\n",
      "11  no es par\n",
      "12  es par\n",
      "13  no es par\n",
      "14  es par\n",
      "15  no es par\n",
      "16  es par\n",
      "17  no es par\n",
      "18  es par\n",
      "19  no es par\n",
      "20  es par\n"
     ]
    }
   ],
   "source": [
    "for x in range(1,21):\n",
    "    if x%2==0:\n",
    "        print(x, \" es par\")\n",
    "    else:\n",
    "        print(x, \" no es par\")"
   ]
  },
  {
   "attachments": {},
   "cell_type": "markdown",
   "metadata": {},
   "source": [
    "4) En un ciclo for mostrar para los valores entre 0 y 5 el resultado de elevarlo a la potencia igual a 3"
   ]
  },
  {
   "cell_type": "code",
   "execution_count": 4,
   "metadata": {},
   "outputs": [
    {
     "name": "stdout",
     "output_type": "stream",
     "text": [
      "0\n",
      "1\n",
      "8\n",
      "27\n",
      "64\n",
      "125\n"
     ]
    }
   ],
   "source": [
    "for x in range(0,6):\n",
    "    print(x**3)"
   ]
  },
  {
   "attachments": {},
   "cell_type": "markdown",
   "metadata": {},
   "source": [
    "5) Crear una variable que contenga un número entero y realizar un ciclo for la misma cantidad de ciclos"
   ]
  },
  {
   "cell_type": "code",
   "execution_count": 8,
   "metadata": {},
   "outputs": [
    {
     "name": "stdout",
     "output_type": "stream",
     "text": [
      "1\n",
      "2\n",
      "3\n",
      "4\n",
      "5\n"
     ]
    }
   ],
   "source": [
    "x=5\n",
    "i=1\n",
    "while i<=x:\n",
    "    print(i)\n",
    "    i+=1\n"
   ]
  },
  {
   "attachments": {},
   "cell_type": "markdown",
   "metadata": {},
   "source": [
    "6) Utilizar un ciclo while para realizar el factorial de un número guardado en una variable, sólo si la variable contiene un número entero mayor a 0"
   ]
  },
  {
   "cell_type": "code",
   "execution_count": 6,
   "metadata": {},
   "outputs": [
    {
     "name": "stdout",
     "output_type": "stream",
     "text": [
      "120\n"
     ]
    }
   ],
   "source": [
    "x=5\n",
    "factorial=1\n",
    "while x>1:\n",
    "\n",
    "    factorial*=x\n",
    "    x=x-1\n",
    "\n",
    "print(factorial)\n",
    "\n"
   ]
  },
  {
   "attachments": {},
   "cell_type": "markdown",
   "metadata": {},
   "source": [
    "7) Crear un ciclo for dentro de un ciclo while"
   ]
  },
  {
   "cell_type": "code",
   "execution_count": 9,
   "metadata": {},
   "outputs": [
    {
     "name": "stdout",
     "output_type": "stream",
     "text": [
      "termino\n"
     ]
    }
   ],
   "source": [
    "x=1\n",
    "while x<=5:\n",
    "    for x in range(1,7):\n",
    "        if x == 6:\n",
    "            print(\"termino\")\n",
    "            break\n",
    "        else:\n",
    "            continue\n"
   ]
  },
  {
   "attachments": {},
   "cell_type": "markdown",
   "metadata": {},
   "source": [
    "8) Crear un ciclo while dentro de un ciclo for"
   ]
  },
  {
   "cell_type": "code",
   "execution_count": 12,
   "metadata": {},
   "outputs": [
    {
     "name": "stdout",
     "output_type": "stream",
     "text": [
      "1\n",
      "2\n",
      "3\n",
      "4\n",
      "5\n",
      "2\n",
      "3\n",
      "4\n",
      "5\n",
      "3\n",
      "4\n",
      "5\n",
      "4\n",
      "5\n",
      "5\n"
     ]
    }
   ],
   "source": [
    "for x in range(1,7):\n",
    "    while x<=5:\n",
    "        print(x)\n",
    "        x+=1"
   ]
  },
  {
   "attachments": {},
   "cell_type": "markdown",
   "metadata": {},
   "source": [
    "9) Imprimir los números primos existentes entre 0 y 30"
   ]
  },
  {
   "cell_type": "code",
   "execution_count": 14,
   "metadata": {},
   "outputs": [
    {
     "name": "stdout",
     "output_type": "stream",
     "text": [
      "Números primos hasta el límite: 31\n",
      "[2, 3, 5, 7, 11, 13, 17, 19, 23, 29]\n"
     ]
    }
   ],
   "source": [
    "\n",
    "primos = []\n",
    "for num in range(2, 31):\n",
    "    es_primo = True\n",
    "    for i in range(2, int(num ** 0.5) + 1):\n",
    "        if num % i == 0:\n",
    "            es_primo = False\n",
    "            break\n",
    "    if es_primo:\n",
    "        primos.append(num)\n",
    "print(\"Números primos hasta el límite:\", 31)\n",
    "print(primos)\n",
    "\n",
    "        "
   ]
  },
  {
   "attachments": {},
   "cell_type": "markdown",
   "metadata": {},
   "source": [
    "10) ¿Se puede mejorar el proceso del punto 9? Utilizar las sentencias break y/ó continue para tal fin"
   ]
  },
  {
   "cell_type": "code",
   "execution_count": 18,
   "metadata": {},
   "outputs": [
    {
     "name": "stdout",
     "output_type": "stream",
     "text": [
      "Números primos hasta el límite: 31\n",
      "[2, 3, 5, 7, 11, 13, 17, 19, 23, 29]\n"
     ]
    }
   ],
   "source": [
    "primos = []\n",
    "\n",
    "for num in range(2, 31):\n",
    "    es_primo = True\n",
    "    for i in range(2, num):\n",
    "        if num % i == 0:\n",
    "            es_primo = False\n",
    "    if es_primo:\n",
    "        primos.append(num)\n",
    "\n",
    "print(\"Números primos hasta el límite:\", 31)\n",
    "print(primos)\n"
   ]
  },
  {
   "attachments": {},
   "cell_type": "markdown",
   "metadata": {},
   "source": [
    "11) En los puntos 9 y 10, se diseño un código que encuentra números primos y además se lo optimizó. ¿Es posible saber en qué medida se optimizó?"
   ]
  },
  {
   "cell_type": "code",
   "execution_count": null,
   "metadata": {},
   "outputs": [],
   "source": [
    "#No hace bucles de mas con el break puede saltarse los bucles que no sirven, si detecta que el numero es primo no sigue preguntando por los otros numeros si son divisibles"
   ]
  },
  {
   "attachments": {},
   "cell_type": "markdown",
   "metadata": {},
   "source": [
    "12) Si la cantidad de números que se evalúa es mayor a treinta, esa optimización crece?"
   ]
  },
  {
   "cell_type": "code",
   "execution_count": null,
   "metadata": {},
   "outputs": [],
   "source": [
    "#Si, es creciente la optimizacion"
   ]
  },
  {
   "attachments": {},
   "cell_type": "markdown",
   "metadata": {},
   "source": [
    "13) Aplicando continue, armar un ciclo while que solo imprima los valores divisibles por 12, dentro del rango de números de 100 a 300"
   ]
  },
  {
   "cell_type": "code",
   "execution_count": 26,
   "metadata": {},
   "outputs": [
    {
     "name": "stdout",
     "output_type": "stream",
     "text": [
      "108   es divisible por 12\n",
      "120   es divisible por 12\n",
      "132   es divisible por 12\n",
      "144   es divisible por 12\n",
      "156   es divisible por 12\n",
      "168   es divisible por 12\n",
      "180   es divisible por 12\n",
      "192   es divisible por 12\n",
      "204   es divisible por 12\n",
      "216   es divisible por 12\n",
      "228   es divisible por 12\n",
      "240   es divisible por 12\n",
      "252   es divisible por 12\n",
      "264   es divisible por 12\n",
      "276   es divisible por 12\n",
      "288   es divisible por 12\n",
      "300   es divisible por 12\n"
     ]
    }
   ],
   "source": [
    "x=100\n",
    "while x<=300:\n",
    "    if x%12==0:\n",
    "        print(x, \"  es divisible por 12\")\n",
    "    x+=1\n",
    "    \n"
   ]
  },
  {
   "attachments": {},
   "cell_type": "markdown",
   "metadata": {},
   "source": [
    "14) Utilizar la función **input()** que permite hacer ingresos por teclado, para encontrar números primos y dar la opción al usario de buscar el siguiente"
   ]
  },
  {
   "cell_type": "code",
   "execution_count": 4,
   "metadata": {},
   "outputs": [
    {
     "name": "stdout",
     "output_type": "stream",
     "text": [
      "Los primos son:  []\n"
     ]
    }
   ],
   "source": [
    "x = 6\n",
    "\n",
    "primos = []\n",
    "\n",
    "es_primo = True\n",
    "for i in range(2, int(x ** 0.5) + 1):\n",
    "    if x % i == 0:\n",
    "        es_primo = False\n",
    "        break\n",
    "if es_primo:\n",
    "    primos.append(x)\n",
    "print(\"Los primos son: \",primos)"
   ]
  },
  {
   "attachments": {},
   "cell_type": "markdown",
   "metadata": {},
   "source": [
    "15) Crear un ciclo while que encuentre dentro del rango de 100 a 300 el primer número divisible por 3 y además múltiplo de 6"
   ]
  },
  {
   "cell_type": "code",
   "execution_count": 5,
   "metadata": {},
   "outputs": [
    {
     "name": "stdout",
     "output_type": "stream",
     "text": [
      "102   es divisible por 12\n",
      "108   es divisible por 12\n",
      "114   es divisible por 12\n",
      "120   es divisible por 12\n",
      "126   es divisible por 12\n",
      "132   es divisible por 12\n",
      "138   es divisible por 12\n",
      "144   es divisible por 12\n",
      "150   es divisible por 12\n",
      "156   es divisible por 12\n",
      "162   es divisible por 12\n",
      "168   es divisible por 12\n",
      "174   es divisible por 12\n",
      "180   es divisible por 12\n",
      "186   es divisible por 12\n",
      "192   es divisible por 12\n",
      "198   es divisible por 12\n",
      "204   es divisible por 12\n",
      "210   es divisible por 12\n",
      "216   es divisible por 12\n",
      "222   es divisible por 12\n",
      "228   es divisible por 12\n",
      "234   es divisible por 12\n",
      "240   es divisible por 12\n",
      "246   es divisible por 12\n",
      "252   es divisible por 12\n",
      "258   es divisible por 12\n",
      "264   es divisible por 12\n",
      "270   es divisible por 12\n",
      "276   es divisible por 12\n",
      "282   es divisible por 12\n",
      "288   es divisible por 12\n",
      "294   es divisible por 12\n",
      "300   es divisible por 12\n"
     ]
    }
   ],
   "source": [
    "x=100\n",
    "while x<=300:\n",
    "    if x%3==0 and x%6==0:\n",
    "        print(x, \"  es divisible por 12\")\n",
    "    x+=1\n",
    "    "
   ]
  }
 ],
 "metadata": {
  "interpreter": {
   "hash": "c85384e4cb51c8b72350f3a8712cc8351fdc3955e32a27f9b60c6242ab125f01"
  },
  "kernelspec": {
   "display_name": "Python 3 (ipykernel)",
   "language": "python",
   "name": "python3"
  },
  "language_info": {
   "codemirror_mode": {
    "name": "ipython",
    "version": 3
   },
   "file_extension": ".py",
   "mimetype": "text/x-python",
   "name": "python",
   "nbconvert_exporter": "python",
   "pygments_lexer": "ipython3",
   "version": "3.9.13"
  }
 },
 "nbformat": 4,
 "nbformat_minor": 4
}
